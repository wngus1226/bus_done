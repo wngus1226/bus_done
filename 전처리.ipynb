{
 "cells": [
  {
   "cell_type": "code",
   "execution_count": null,
   "metadata": {},
   "outputs": [],
   "source": [
    "#data 불러오기\n",
    "#unicode8문제해결할떄 encoding = ''CP949'' 붙여주기\n",
    "jejuweather = pd.read_csv('jejuweather.csv', encoding = 'CP949')"
   ]
  },
  {
   "cell_type": "code",
   "execution_count": 11,
   "metadata": {},
   "outputs": [],
   "source": [
    "import pandas as pd\n",
    "from plotnine import *"
   ]
  },
  {
   "cell_type": "code",
   "execution_count": 13,
   "metadata": {},
   "outputs": [],
   "source": [
    "#matplot 한글설정 (plot에서글꺠짐방지) #mac 일경우\n",
    "import matplotlib as plt\n",
    "plt.font_manager._rebuild()\n",
    "plt.pyplot.rc('font', family='AppleGothic')"
   ]
  },
  {
   "cell_type": "code",
   "execution_count": null,
   "metadata": {},
   "outputs": [],
   "source": [
    "#경로확인\n",
    "import os\n",
    "os.getcwd()\n",
    "os.chdir('/Users/mac/Documents')\n",
    "\n",
    "#폴더내 파일확인\n",
    "%ls /Users/mac/Documents/"
   ]
  },
  {
   "cell_type": "code",
   "execution_count": 16,
   "metadata": {},
   "outputs": [],
   "source": [
    "import os\n",
    "os.getcwd()\n",
    "os.chdir('/Users/mac/Documents')\n"
   ]
  },
  {
   "cell_type": "code",
   "execution_count": null,
   "metadata": {},
   "outputs": [],
   "source": [
    "#결측치정도 파악 하얀색=결측치\n",
    "import missingno as msno\n",
    "msno.matrix(shop)"
   ]
  },
  {
   "cell_type": "code",
   "execution_count": null,
   "metadata": {},
   "outputs": [],
   "source": [
    "#group_by, agg \\을 붙이면 다음칸에 작성해도됨 \n",
    "f = bts.groupby(['geton_date','geton_time2','geton_station_code','bus_route_id'])['user_count'].\\\n",
    "agg([('탑승객_수','sum')]).reset_index().\\\n",
    "sort_values(by=['geton_date','geton_station_code','bus_route_id','geton_time2'], ascending=True).reset_index()"
   ]
  },
  {
   "cell_type": "code",
   "execution_count": 1,
   "metadata": {
    "scrolled": true
   },
   "outputs": [
    {
     "ename": "SyntaxError",
     "evalue": "invalid syntax (<ipython-input-1-6568d7f8a161>, line 2)",
     "output_type": "error",
     "traceback": [
      "\u001b[0;36m  File \u001b[0;32m\"<ipython-input-1-6568d7f8a161>\"\u001b[0;36m, line \u001b[0;32m2\u001b[0m\n\u001b[0;31m    pd.todate?? 한번찾아보기\u001b[0m\n\u001b[0m             ^\u001b[0m\n\u001b[0;31mSyntaxError\u001b[0m\u001b[0;31m:\u001b[0m invalid syntax\n"
     ]
    }
   ],
   "source": [
    "##날짜형\n",
    "pd.todate?? 한번찾아보기\n",
    "\n",
    "#요일뽑아내기 Monday is 0 and Sunday is 6.\n",
    "bus_train2['date2'] = pd.to_datetime(bus_train2['date'])\n",
    "\n",
    "#요일나누고 주말분류\n",
    "import datetime\n",
    "#5,6이 토,일 임 \n",
    "def w(x):\n",
    "    if x == 5:\n",
    "        return 1\n",
    "    elif x == 6:\n",
    "        return 1\n",
    "    else :\n",
    "        return 0\n",
    "data['weekday']= data['date'].dt.weekday\n",
    "data['weekday'].apply(w) #주중은 0 주말은 1로 분류\n",
    "\n",
    "#일자 str형으로 바꾼후 휴일유무로 나누기\n",
    "data['date']= data['date'].astype('str')\n",
    "def g(x):\n",
    "    if x in ['2019-09-12','2019-09-13','2019-09-14','2019-10-03','2019-10-09']:\n",
    "        return 1\n",
    "    else:\n",
    "        return 0\n",
    "data['holiday'] = data['date'].apply(g)\n",
    "\n",
    "\n",
    "\n",
    "#추출 시간만 뽑아내기(2번쨰글자까지 가저오기)\n",
    "bts['geton_time'] = bts['geton_time'].apply(lambda x : x[:2])\n",
    "\n",
    "#일시와 시간을분리  2019-09-01 4:00  에서\n",
    "raining['time'] = [ int( i.split(' ')[1].split(':')[0] ) for i in raining['일시']] \n",
    "raining['일시'] = [ i.split(' ')[0] for i in raining['일시'] ] \n",
    "\n"
   ]
  },
  {
   "cell_type": "code",
   "execution_count": null,
   "metadata": {},
   "outputs": [],
   "source": [
    "#scaling 스케일링\n",
    "from sklearn.preprocessing import RobustScaler\n",
    "robustScaler = RobustScaler()\n",
    "print(robustScaler.fit(df_all[numerical]))\n",
    "train_data_robustScaled = robustScaler.transform(df_all[numerical])\n",
    "\n",
    "#scaling한데이터 데이터프레임으로 만들어주기\n",
    "x=pd.DataFrame(train_data_robustScaled,columns=['latitude', 'longitude', 'dis_jejusi', 'dis_seoquipo', '6~8_ride',\n",
    "       '8~10_ride', '10~12_ride', '6~8_takeoff', '8~10_takeoff',\n",
    "       '10~12_takeoff', 'dis_jeju', 'dis_gosan', 'dis_seongsan', 'dis_po',\n",
    "       'temp', 'rain'])\n"
   ]
  },
  {
   "cell_type": "code",
   "execution_count": null,
   "metadata": {},
   "outputs": [],
   "source": [
    "#모형사용변수선택x=pd.DataFrame(train_data_robustScaled,columns=['latitude', 'longitude', 'dis_jejusi', 'dis_seoquipo', '6~8_ride',\n",
    "       '8~10_ride', '10~12_ride', '6~8_takeoff', '8~10_takeoff',\n",
    "       '10~12_takeoff', 'dis_jeju', 'dis_gosan', 'dis_seongsan', 'dis_po',\n",
    "       'temp', 'rain'])\n",
    " \n",
    "use_cols = [col for col in bus_train.columns if col not in ['id', 'bus_route_id','date','station_code','station_name','longitude','latitude','18~20_ride']]\n",
    "print(use_cols)\n",
    "bus_train=bus_train[use_cols]\n",
    "bus_test=bus_test[use_cols]\n",
    "\n",
    "#원핫인코딩\n",
    "from sklearn.preprocessing import LabelEncoder\n",
    "for col in categorical_feats:\n",
    "    print(col)\n",
    "    lbl = LabelEncoder()\n",
    "    lbl.fit(list(bus_train_use[col].values.astype('str')) + list(bus_test_use[col].values.astype('str')))\n",
    "    bus_train_use[col] = lbl.transform(list(bus_train_use[col].values.astype('str')))\n",
    "    bus_test_use[col] = lbl.transform(list(bus_test_use[col].values.astype('str')))\n",
    "#원핫인코딩후 더미화\n",
    "df_all = pd.concat([bus_train_use, bus_test_use])\n",
    "df_all = pd.get_dummies(df_all, columns=categorical_feats)\n",
    "#전처리후 다시 나눠주기\n",
    "len_train = bus_train_use.shape[0] #shape의 첫번째는 열의 수를 나타냄\n",
    "print(len_train)\n",
    "len_test = bus_test_use.shape[0]\n",
    "print(len_test)\n",
    "train = df_all[:len_train]\n",
    "test = df_all[len_train:]    \n",
    "    "
   ]
  },
  {
   "cell_type": "code",
   "execution_count": null,
   "metadata": {},
   "outputs": [],
   "source": [
    "#포함여부리스트확인\n",
    "resultlist = []\n",
    "for s in some_list:\n",
    "    if \"abc\" in s:\n",
    "        resultlist.append(s)\n",
    "        \n",
    "#object 형 컬럼 리스트 보기\n",
    "factor_columns = train_test_prod.select_dtypes(include = ['object']).columns\n",
    "numeric_columns = train_test_prod.columns.difference(factor_columns)"
   ]
  },
  {
   "cell_type": "code",
   "execution_count": null,
   "metadata": {},
   "outputs": [],
   "source": [
    "#데이터형태파악하기\n",
    "#데이터정보확인\n",
    "data.info()\n",
    "#행이름 확인\n",
    "bus.columns\n",
    "#행렬수확인\n",
    "bus.shape\n",
    "#행 개수 세기\n",
    "len(df)\n",
    "#열 개수 세기\n",
    "len(df.columns)\n",
    "#각level개수확인\n",
    "from collections import Counter # count 용도\n",
    "Counter(bus_train['id'])\n"
   ]
  },
  {
   "cell_type": "code",
   "execution_count": null,
   "metadata": {},
   "outputs": [],
   "source": [
    "#데이터형태조작\n",
    "#index=열 columns=행 \n",
    "pd.pivot_table(bus_sub_time,index=['user_card_id','bus_route_id'],columns=['geton_cl'],aggfunc='mean')\n",
    "#pivot데이터의 index확인\n",
    "bus_sub_time_getoff_count.index\n",
    "\n",
    "#pivot id= 행(index), user_category 열(columns) ,값(values)= 승객수\n",
    "f = bts.groupby(['bus_route_id','user_category'])['user_count'].agg([('승객수', 'sum')]).reset_index()\n",
    "pd.pivot_table(f, values='승객수', index='bus_route_id', columns='user_category',fill_value=0).reset_index()\n",
    "\n",
    "# 1,2번쨰 index를 지워줌\n",
    "bus_sub_time_getoff_count.reset_index(level=[0,1],inplace=True)\n",
    "#index 넣어주기\n",
    "f['index'] = list(range(0,len(f)))"
   ]
  },
  {
   "cell_type": "code",
   "execution_count": null,
   "metadata": {},
   "outputs": [],
   "source": [
    "#null값확인\n",
    "data.isnull().sum()\n",
    "#null값 숫자0으로변경\n",
    "rain3= rain3.fillna(0.00000)\n",
    "#unique\n",
    "bus.id.unique() #df.col명.\n",
    "#{}에 format(숫자)를 삽입. 넣어줌 (숫자대신 i 넣어주면 좋음)\n",
    "[*\"2019.9.{}.10:00\".format(1)]\n",
    "\n"
   ]
  },
  {
   "cell_type": "code",
   "execution_count": null,
   "metadata": {},
   "outputs": [],
   "source": [
    "#행렬\n",
    "#행불러오기\n",
    "bus['geton_station_name']\n",
    "#행렬조건문\n",
    "dfRefflat[(dfRefflat['cdsStart'] > 10000) & (dfRefflat['cdsEnd'] < 20000)]\n",
    "corrmat.loc[:,'18~20_ride'] > 0.5\n",
    "rain2 = raining[ (raining['time']>=6) & (raining['time']<12)]\n",
    "#ontime이 06이면서 13열인거 index\n",
    "bts.iloc[bts.query('on_time==\"06\"').index,13]\n",
    "\n",
    "#index가 0인 값불러오기\n",
    "g.iloc[:,1:].apply(pd.value_counts)[g.iloc[:,1:].apply(pd.value_counts).index==0]\n",
    "\n",
    "\n",
    "# platform 장르 1000개이상인 애들 필터링후 total 크기순서대로 정렬 \n",
    "platGenre[platGenre['Total']>1000].sort_values(by='Total', ascending = False)\n",
    "\n",
    "#해당컬럼제외한 나머지변수불러오기\n",
    "numerical = ['latitude', 'longitude', 'dis_jejusi', 'dis_seoquipo', '6~8_ride']             \n",
    "df_all[df_all.columns.difference(numerical)]\n",
    "\n",
    "#cbind, rbind\n",
    "dfRefflat3 = pd.concat([dfRefflat2['#geneName'],dfRefflat['strand']], axis=1)#axis=2는 rbind\n",
    "#열없애기 제거하기\n",
    "bus_train.drop(['date', 'in_out', 'station_name'], axis='columns', inplace=True)"
   ]
  },
  {
   "cell_type": "code",
   "execution_count": null,
   "metadata": {},
   "outputs": [],
   "source": [
    "#데이터col이름바꾸기\n",
    "trs.rename(columns={trs.columns[0] : ‘ID’,\n",
    "trs.columns[1] : ‘code’,\n",
    "trs.columns[2] : ‘organization’,\n",
    "trs.columns[3] : ‘original’,\n",
    "trs.columns[4] : ‘revised’,\n",
    "trs.columns[5] : ‘funding’,\n",
    "trs.columns[6] : ‘cover_rate’,\n",
    "trs.columns[7] : ‘umnet’,\n",
    "trs.columns[8] : ‘outstanding’,\n",
    "trs.columns[10] : ‘recipient’,}, inplace=True)\n",
    "\n",
    "# Repalce nan to zero   nan -> 0으로 바꾸기\n",
    "train.replace(np.nan, 0.0)\n",
    "\n",
    "#외부데이터에서 나오는 지점명들을 변경\n",
    "raining['지점'] = [ str(i) for i in raining['지점'] ]\n",
    "\n",
    "raining['지점'] = ['jeju' if i=='184' else i for i in raining['지점'] ]  # 위도 : 33.51411 경도 : 126.52969\n",
    "raining['지점'] = ['gosan' if i=='185' else i for i in raining['지점'] ]  # 위도 : 33.29382 경도 : 126.16283\n",
    "raining['지점'] = ['seongsan' if i=='188' else i for i in raining['지점'] ]  # 위도 : 33.38677 경도 : 126.8802\n",
    "raining['지점'] = ['po' if i=='189' else i for i in raining['지점'] ]  # 위도 : 33.24616 경도 : 126.5653\n",
    "\n",
    "#col명변경\n",
    "bus_sub_time.columns.values[13]='ridetime'"
   ]
  },
  {
   "cell_type": "code",
   "execution_count": null,
   "metadata": {},
   "outputs": [],
   "source": [
    "##gis관련 거리\n",
    "\n",
    "\n",
    "#data latitude, data longtitude과 제주시청(광양방면)간의 거리차가 얼마나 나는지 나타내줌\n",
    "coords_jejusicheong1 = (33.49892, 126.53035) #제주시청(광양방면)의 위도 경도\n",
    "#각행별로 거리가 어떻게 되는지 보여준후 [] array에 담아줌\n",
    "data['dis_jejusicheong1'] = [geopy.distance.vincenty((data['latitude'].iloc[i],data['longitude'].iloc[i]), coords_jejusicheong1).km for i in range(len(data))] "
   ]
  },
  {
   "cell_type": "code",
   "execution_count": null,
   "metadata": {},
   "outputs": [],
   "source": [
    "##튜플관련 tuple\n",
    "#튜플간 뺼셈, 연산 tuple ()\n",
    "a,b=data['latitude'].iloc[1],data['longitude'].iloc[1]\n",
    "c,d=coords_jejusicheong1\n",
    "abs(a-c), abs(b-d)"
   ]
  },
  {
   "cell_type": "code",
   "execution_count": null,
   "metadata": {},
   "outputs": [],
   "source": [
    "##string STR 관련 문자열\n",
    "\n",
    "#글자가 서울로 시작되는 것과 서울로 시작되지 않는것  str 시작\n",
    "shop_seoul = shop2018.loc[shop2018['도로명주소'].str.startswith('서울')]\n",
    "shop_except_seoul = shop2018.loc[~shop2018['도로명주소'].str.startswith('서울')]\n",
    "\n",
    "#뛰어쓰기기준으로 나눈후 첫번째 단어만 가져오기 expand =true일경우 나눈후 첫번째 단어인것들을 가져옴\n",
    "shop['시도'] = shop['도로명주소'].str.split(' ',expand=True)[0]\n",
    "shop['구군'] = shop['도로명주소'].str.split(' ',expand=True)[1]\n"
   ]
  },
  {
   "cell_type": "code",
   "execution_count": null,
   "metadata": {},
   "outputs": [],
   "source": [
    "## def형 \n",
    "\n",
    "def week_mean() :\n",
    "\n",
    "    df = data.reset_index(drop=True)\n",
    "    df.groupby('weekday')['18~20_ride'].mean()\n",
    "    df['weekdaymean']= 1 #weekdaymean을 생성후 1로 채워줌\n",
    "\n",
    "    index0 = df.query('weekday==0').index\n",
    "    index1 = df.query('weekday==1').index\n",
    "    index2 = df.query('weekday==2').index\n",
    "    index3 = df.query('weekday==3').index\n",
    "    index4 = df.query('weekday==4').index\n",
    "    index5 = df.query('weekday==5').index\n",
    "    index6 = df.query('weekday==6').index\n",
    "\n",
    "    df.iloc[index0,-1] = 1.343710 #각각의 weekday에 맞는 인덱스의 끝행(-1)에 평균으로 채워줌\n",
    "    df.iloc[index1,-1] = 1.375319\n",
    "    df.iloc[index2,-1] = 1.430856\n",
    "    df.iloc[index3,-1] = 1.256710\n",
    "    df.iloc[index4,-1] = 1.067439\n",
    "    df.iloc[index5,-1] = 1.062123\n",
    "    df.iloc[index6,-1] = 1.034282\n",
    "\n",
    "    return df\n",
    "data = week_mean()\n",
    "\n"
   ]
  }
 ],
 "metadata": {
  "kernelspec": {
   "display_name": "Python 3",
   "language": "python",
   "name": "python3"
  },
  "language_info": {
   "codemirror_mode": {
    "name": "ipython",
    "version": 3
   },
   "file_extension": ".py",
   "mimetype": "text/x-python",
   "name": "python",
   "nbconvert_exporter": "python",
   "pygments_lexer": "ipython3",
   "version": "3.7.4"
  }
 },
 "nbformat": 4,
 "nbformat_minor": 2
}
